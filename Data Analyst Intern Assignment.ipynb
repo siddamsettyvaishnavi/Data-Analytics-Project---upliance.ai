{
 "cells": [
  {
   "cell_type": "markdown",
   "id": "e4b26e96-7734-4cbb-9a6f-ea0bacb5596c",
   "metadata": {},
   "source": [
    "Step 1: Load and Inspect Data"
   ]
  },
  {
   "cell_type": "code",
   "execution_count": 141,
   "id": "189bc52b-eb8b-4786-bae3-097cf7b5605b",
   "metadata": {},
   "outputs": [],
   "source": [
    "import pandas as pd\n",
    "\n",
    "# Paths to the individual CSV files\n",
    "user_details_path = \"C:/Users/DELL/Downloads/UserDetails.csv\"\n",
    "cooking_sessions_path = \"C:/Users/DELL/Downloads/CookingSessions.csv\"\n",
    "order_details_path = \"C:/Users/DELL/Downloads/OrderDetails.csv\""
   ]
  },
  {
   "cell_type": "code",
   "execution_count": 143,
   "id": "69bca514-f67f-4193-ab51-1389589ff722",
   "metadata": {},
   "outputs": [],
   "source": [
    "# Load the datasets\n",
    "user_details = pd.read_csv(user_details_path)\n",
    "cooking_sessions = pd.read_csv(cooking_sessions_path)\n",
    "order_details = pd.read_csv(order_details_path)"
   ]
  },
  {
   "cell_type": "code",
   "execution_count": 145,
   "id": "e69a5ed2-3700-4f86-864b-b9b8d728d9fd",
   "metadata": {},
   "outputs": [
    {
     "name": "stdout",
     "output_type": "stream",
     "text": [
      "User Details:\n",
      "  User ID      User Name  Age       Location Registration Date         Phone  \\\n",
      "0    U001  Alice Johnson   28       New York        15-01-2023  123-456-7890   \n",
      "1    U002      Bob Smith   35    Los Angeles        20-02-2023  987-654-3210   \n",
      "2    U003    Charlie Lee   42        Chicago        10-03-2023  555-123-4567   \n",
      "3    U004    David Brown   27  San Francisco        05-04-2023  444-333-2222   \n",
      "4    U005     Emma White   30        Seattle        22-05-2023  777-888-9999   \n",
      "\n",
      "               Email Favorite Meal  Total Orders  \n",
      "0    alice@email.com        Dinner            12  \n",
      "1      bob@email.com         Lunch             8  \n",
      "2  charlie@email.com     Breakfast            15  \n",
      "3    david@email.com        Dinner            10  \n",
      "4     emma@email.com         Lunch             9  \n"
     ]
    }
   ],
   "source": [
    "# Display a preview of the dataframes\n",
    "print(\"User Details:\")\n",
    "print(user_details.head())"
   ]
  },
  {
   "cell_type": "code",
   "execution_count": 147,
   "id": "587898dc-8e45-4d88-bd29-b3e95ac6c120",
   "metadata": {},
   "outputs": [
    {
     "name": "stdout",
     "output_type": "stream",
     "text": [
      "\n",
      "Cooking Sessions:\n",
      "  Session ID User ID        Dish Name  Meal Type     Session Start  \\\n",
      "0       S001    U001        Spaghetti     Dinner  2024-12-01 19:00   \n",
      "1       S002    U002     Caesar Salad      Lunch  2024-12-01 12:00   \n",
      "2       S003    U003  Grilled Chicken     Dinner  2024-12-02 19:30   \n",
      "3       S004    U001         Pancakes  Breakfast  2024-12-02 07:30   \n",
      "4       S005    U004     Caesar Salad      Lunch  2024-12-03 13:00   \n",
      "\n",
      "        Session End  Duration (mins)  Session Rating  \n",
      "0  2024-12-01 19:30               30             4.5  \n",
      "1  2024-12-01 12:20               20             4.0  \n",
      "2  2024-12-02 20:10               40             4.8  \n",
      "3  2024-12-02 08:00               30             4.2  \n",
      "4  2024-12-03 13:15               15             4.7  \n"
     ]
    }
   ],
   "source": [
    "print(\"\\nCooking Sessions:\")\n",
    "print(cooking_sessions.head())"
   ]
  },
  {
   "cell_type": "code",
   "execution_count": 149,
   "id": "d19acaa9-4e7f-43b1-a634-1b32a1c8f089",
   "metadata": {},
   "outputs": [
    {
     "name": "stdout",
     "output_type": "stream",
     "text": [
      "\n",
      "Order Details:\n",
      "   Order ID User ID  Order Date  Meal Type        Dish Name Order Status  \\\n",
      "0      1001    U001  2024-12-01     Dinner        Spaghetti    Completed   \n",
      "1      1002    U002  2024-12-01      Lunch     Caesar Salad    Completed   \n",
      "2      1003    U003  2024-12-02     Dinner  Grilled Chicken     Canceled   \n",
      "3      1004    U001  2024-12-02  Breakfast         Pancakes    Completed   \n",
      "4      1005    U004  2024-12-03      Lunch     Caesar Salad    Completed   \n",
      "\n",
      "   Amount (USD) Time of Day  Rating Session ID  \n",
      "0          15.0       Night     5.0       S001  \n",
      "1          10.0         Day     4.0       S002  \n",
      "2          12.5       Night     NaN       S003  \n",
      "3           8.0     Morning     4.0       S004  \n",
      "4           9.0         Day     4.0       S005  \n"
     ]
    }
   ],
   "source": [
    "print(\"\\nOrder Details:\")\n",
    "print(order_details.head())"
   ]
  },
  {
   "cell_type": "code",
   "execution_count": 151,
   "id": "920bbb1c-735f-427b-87aa-b27844ee20d0",
   "metadata": {},
   "outputs": [
    {
     "name": "stdout",
     "output_type": "stream",
     "text": [
      "\n",
      "Missing Values:\n",
      "UserDetails: User ID              0\n",
      "User Name            0\n",
      "Age                  0\n",
      "Location             0\n",
      "Registration Date    0\n",
      "Phone                0\n",
      "Email                0\n",
      "Favorite Meal        0\n",
      "Total Orders         0\n",
      "dtype: int64\n",
      "CookingSessions: Session ID         0\n",
      "User ID            0\n",
      "Dish Name          0\n",
      "Meal Type          0\n",
      "Session Start      0\n",
      "Session End        0\n",
      "Duration (mins)    0\n",
      "Session Rating     0\n",
      "dtype: int64\n",
      "OrderDetails: Order ID        0\n",
      "User ID         0\n",
      "Order Date      0\n",
      "Meal Type       0\n",
      "Dish Name       0\n",
      "Order Status    0\n",
      "Amount (USD)    0\n",
      "Time of Day     0\n",
      "Rating          2\n",
      "Session ID      0\n",
      "dtype: int64\n"
     ]
    }
   ],
   "source": [
    "# Check for missing values\n",
    "print(\"\\nMissing Values:\")\n",
    "print(\"UserDetails:\", user_details.isnull().sum())\n",
    "print(\"CookingSessions:\", cooking_sessions.isnull().sum())\n",
    "print(\"OrderDetails:\", order_details.isnull().sum())"
   ]
  },
  {
   "cell_type": "code",
   "execution_count": 153,
   "id": "ebf13fb0-da04-48d9-9635-0a7830f47a9a",
   "metadata": {},
   "outputs": [
    {
     "name": "stdout",
     "output_type": "stream",
     "text": [
      "\n",
      "Data Types:\n",
      "UserDetails: User ID              object\n",
      "User Name            object\n",
      "Age                   int64\n",
      "Location             object\n",
      "Registration Date    object\n",
      "Phone                object\n",
      "Email                object\n",
      "Favorite Meal        object\n",
      "Total Orders          int64\n",
      "dtype: object\n",
      "CookingSessions: Session ID          object\n",
      "User ID             object\n",
      "Dish Name           object\n",
      "Meal Type           object\n",
      "Session Start       object\n",
      "Session End         object\n",
      "Duration (mins)      int64\n",
      "Session Rating     float64\n",
      "dtype: object\n",
      "OrderDetails: Order ID          int64\n",
      "User ID          object\n",
      "Order Date       object\n",
      "Meal Type        object\n",
      "Dish Name        object\n",
      "Order Status     object\n",
      "Amount (USD)    float64\n",
      "Time of Day      object\n",
      "Rating          float64\n",
      "Session ID       object\n",
      "dtype: object\n"
     ]
    }
   ],
   "source": [
    "# Check data types\n",
    "print(\"\\nData Types:\")\n",
    "print(\"UserDetails:\", user_details.dtypes)\n",
    "print(\"CookingSessions:\", cooking_sessions.dtypes)\n",
    "print(\"OrderDetails:\", order_details.dtypes)"
   ]
  },
  {
   "cell_type": "markdown",
   "id": "56d1aeaf-0959-4e9b-a949-4a1c058b1f5e",
   "metadata": {},
   "source": [
    "Step 2: Clean the Data"
   ]
  },
  {
   "cell_type": "markdown",
   "id": "7bc64adb-7365-4706-b265-9de616dbdf4a",
   "metadata": {},
   "source": [
    "Ensure the data is consistent and ready for analysis."
   ]
  },
  {
   "cell_type": "code",
   "execution_count": 157,
   "id": "4e78c6fb-1826-4b91-ba0b-3cbb8da568cd",
   "metadata": {},
   "outputs": [],
   "source": [
    "# Handle missing values (example: filling or dropping rows)\n",
    "user_details.dropna(inplace=True)\n",
    "cooking_sessions.dropna(inplace=True)\n",
    "order_details.dropna(inplace=True)"
   ]
  },
  {
   "cell_type": "code",
   "execution_count": 159,
   "id": "ae9428d2-52e8-4f0f-b721-b9a37a23f209",
   "metadata": {},
   "outputs": [],
   "source": [
    "# Standardize column names for uniformity\n",
    "user_details.columns = user_details.columns.str.lower().str.replace(' ', '_')\n",
    "cooking_sessions.columns = cooking_sessions.columns.str.lower().str.replace(' ', '_')\n",
    "order_details.columns = order_details.columns.str.lower().str.replace(' ', '_')"
   ]
  },
  {
   "cell_type": "code",
   "execution_count": 161,
   "id": "418adca7-3318-4359-ba92-c697e7a7985f",
   "metadata": {},
   "outputs": [],
   "source": [
    "# Remove duplicates\n",
    "user_details.drop_duplicates(inplace=True)\n",
    "cooking_sessions.drop_duplicates(inplace=True)\n",
    "order_details.drop_duplicates(inplace=True)"
   ]
  },
  {
   "cell_type": "markdown",
   "id": "e8420fe4-62a7-435f-96ef-9a2571326794",
   "metadata": {},
   "source": [
    "Step 3: Merge the Data"
   ]
  },
  {
   "cell_type": "markdown",
   "id": "13dd16b1-6f95-41b2-add2-a44e142836a9",
   "metadata": {},
   "source": [
    "Combine datasets for analysis."
   ]
  },
  {
   "cell_type": "code",
   "execution_count": 165,
   "id": "c8b1047d-b9c6-41cb-b8cb-09e9866512b5",
   "metadata": {},
   "outputs": [],
   "source": [
    "# Merge datasets using common keys\n",
    "merged_data = pd.merge(cooking_sessions, user_details, on='user_id', how='inner')\n",
    "merged_data = pd.merge(merged_data, order_details, on='session_id', how='inner')"
   ]
  },
  {
   "cell_type": "code",
   "execution_count": 167,
   "id": "f7bc455f-febc-42eb-bd54-1b6fdd2a7d3e",
   "metadata": {},
   "outputs": [
    {
     "name": "stdout",
     "output_type": "stream",
     "text": [
      "Merged Dataset:\n",
      "  session_id user_id_x   dish_name_x meal_type_x     session_start  \\\n",
      "0       S001      U001     Spaghetti      Dinner  2024-12-01 19:00   \n",
      "1       S002      U002  Caesar Salad       Lunch  2024-12-01 12:00   \n",
      "2       S004      U001      Pancakes   Breakfast  2024-12-02 07:30   \n",
      "3       S005      U004  Caesar Salad       Lunch  2024-12-03 13:00   \n",
      "4       S006      U002     Spaghetti      Dinner  2024-12-03 18:30   \n",
      "\n",
      "        session_end  duration_(mins)  session_rating      user_name  age  ...  \\\n",
      "0  2024-12-01 19:30               30             4.5  Alice Johnson   28  ...   \n",
      "1  2024-12-01 12:20               20             4.0      Bob Smith   35  ...   \n",
      "2  2024-12-02 08:00               30             4.2  Alice Johnson   28  ...   \n",
      "3  2024-12-03 13:15               15             4.7    David Brown   27  ...   \n",
      "4  2024-12-03 19:00               30             4.3      Bob Smith   35  ...   \n",
      "\n",
      "  total_orders order_id user_id_y  order_date meal_type_y   dish_name_y  \\\n",
      "0           12     1001      U001  2024-12-01      Dinner     Spaghetti   \n",
      "1            8     1002      U002  2024-12-01       Lunch  Caesar Salad   \n",
      "2           12     1004      U001  2024-12-02   Breakfast      Pancakes   \n",
      "3           10     1005      U004  2024-12-03       Lunch  Caesar Salad   \n",
      "4            8     1006      U002  2024-12-03      Dinner     Spaghetti   \n",
      "\n",
      "   order_status amount_(usd) time_of_day rating  \n",
      "0     Completed         15.0       Night    5.0  \n",
      "1     Completed         10.0         Day    4.0  \n",
      "2     Completed          8.0     Morning    4.0  \n",
      "3     Completed          9.0         Day    4.0  \n",
      "4     Completed         14.0       Night    4.0  \n",
      "\n",
      "[5 rows x 25 columns]\n"
     ]
    }
   ],
   "source": [
    "# Inspect the merged dataset\n",
    "print(\"Merged Dataset:\")\n",
    "print(merged_data.head())"
   ]
  },
  {
   "cell_type": "markdown",
   "id": "8b7b0a4d-14e6-45ed-a816-7bf5821bbeaa",
   "metadata": {},
   "source": [
    "Step 4: Rename Columns for Consistency"
   ]
  },
  {
   "cell_type": "code",
   "execution_count": 170,
   "id": "c50ce222-c2f2-4d3f-9495-a910a8f544c1",
   "metadata": {},
   "outputs": [],
   "source": [
    "# Rename columns for clarity\n",
    "merged_data = merged_data.rename(columns={\n",
    "    'user_id_x': 'user_id',\n",
    "    'dish_name_x': 'session_dish',\n",
    "    'meal_type_x': 'session_meal',\n",
    "    'user_id_y': 'user_id_order',\n",
    "    'dish_name_y': 'order_dish',\n",
    "    'meal_type_y': 'order_meal'\n",
    "})"
   ]
  },
  {
   "cell_type": "markdown",
   "id": "230824da-2457-42b6-a526-18a9e6e88958",
   "metadata": {},
   "source": [
    "Step 5: Drop Unnecessary Columns"
   ]
  },
  {
   "cell_type": "code",
   "execution_count": 173,
   "id": "fddde160-6c0d-4c04-bba3-6e7b53c5d2e4",
   "metadata": {},
   "outputs": [],
   "source": [
    "# Drop duplicate or unnecessary columns\n",
    "merged_data = merged_data.drop(columns=['user_id_order'])"
   ]
  },
  {
   "cell_type": "markdown",
   "id": "dd0d20fe-cc24-44ad-a6d3-f442fc7744ba",
   "metadata": {},
   "source": [
    "Step 6: Analyze the Relationship Between Sessions and Orders"
   ]
  },
  {
   "cell_type": "code",
   "execution_count": 176,
   "id": "722344a8-5096-4a68-b286-e71639842949",
   "metadata": {},
   "outputs": [
    {
     "name": "stdout",
     "output_type": "stream",
     "text": [
      "Sessions and Orders Relationship:\n",
      "         num_sessions  num_orders\n",
      "user_id                          \n",
      "U001                3           3\n",
      "U002                3           3\n",
      "U003                1           1\n",
      "U004                2           2\n",
      "U005                2           2\n",
      "U006                1           1\n",
      "U007                1           1\n",
      "U008                1           1\n",
      "Correlation between sessions and orders:\n",
      "              num_sessions  num_orders\n",
      "num_sessions           1.0         1.0\n",
      "num_orders             1.0         1.0\n"
     ]
    }
   ],
   "source": [
    "# Group data by user_id to analyze sessions and orders\n",
    "sessions_orders_relation = merged_data.groupby('user_id').agg({\n",
    "    'session_id': 'nunique',  # Count unique session IDs\n",
    "    'order_id': 'nunique'     # Count unique order IDs\n",
    "}).rename(columns={'session_id': 'num_sessions', 'order_id': 'num_orders'})\n",
    "\n",
    "# Check the correlation between sessions and orders\n",
    "print(\"Sessions and Orders Relationship:\")\n",
    "print(sessions_orders_relation)\n",
    "print(\"Correlation between sessions and orders:\")\n",
    "print(sessions_orders_relation.corr())"
   ]
  },
  {
   "cell_type": "markdown",
   "id": "d5005544-5adf-42ad-a5fd-e4519bf4806a",
   "metadata": {},
   "source": [
    "Step 7: Identify Popular Dishes"
   ]
  },
  {
   "cell_type": "code",
   "execution_count": 179,
   "id": "dfd05143-055b-41b4-a4c7-e24ae2908c74",
   "metadata": {},
   "outputs": [
    {
     "name": "stdout",
     "output_type": "stream",
     "text": [
      "Most Popular Dishes:\n",
      "order_dish\n",
      "Spaghetti          4\n",
      "Caesar Salad       3\n",
      "Grilled Chicken    3\n",
      "Pancakes           2\n",
      "Oatmeal            1\n",
      "Name: count, dtype: int64\n"
     ]
    }
   ],
   "source": [
    "# Most popular dishes\n",
    "popular_dishes = merged_data['order_dish'].value_counts().head(5)\n",
    "print(\"Most Popular Dishes:\")\n",
    "print(popular_dishes)"
   ]
  },
  {
   "cell_type": "code",
   "execution_count": 181,
   "id": "db9f98c7-ab3d-4003-9f21-06a768b770e2",
   "metadata": {},
   "outputs": [
    {
     "name": "stdout",
     "output_type": "stream",
     "text": [
      "Index(['session_id', 'user_id', 'session_dish', 'session_meal',\n",
      "       'session_start', 'session_end', 'duration_(mins)', 'session_rating',\n",
      "       'user_name', 'age', 'location', 'registration_date', 'phone', 'email',\n",
      "       'favorite_meal', 'total_orders', 'order_id', 'order_date', 'order_meal',\n",
      "       'order_dish', 'order_status', 'amount_(usd)', 'time_of_day', 'rating'],\n",
      "      dtype='object')\n"
     ]
    }
   ],
   "source": [
    "print(merged_data.columns)"
   ]
  },
  {
   "cell_type": "markdown",
   "id": "6321310c-96de-4031-8ee8-0228c0729715",
   "metadata": {},
   "source": [
    "Step 8: Explore Demographic Factors"
   ]
  },
  {
   "cell_type": "markdown",
   "id": "adab0b40-d0f6-488f-8d4a-b86c1b8de4cb",
   "metadata": {},
   "source": [
    "Orders by Age"
   ]
  },
  {
   "cell_type": "code",
   "execution_count": 185,
   "id": "51a45ba7-1fe5-444d-ae2c-1876bd2fad53",
   "metadata": {},
   "outputs": [
    {
     "name": "stdout",
     "output_type": "stream",
     "text": [
      "Orders by Age Group:\n",
      "age\n",
      "25    1\n",
      "27    2\n",
      "28    3\n",
      "30    2\n",
      "31    1\n",
      "35    3\n",
      "38    1\n",
      "42    1\n",
      "Name: order_id, dtype: int64\n"
     ]
    }
   ],
   "source": [
    "# Analyze orders by age\n",
    "age_group_analysis = merged_data.groupby('age')['order_id'].count()\n",
    "\n",
    "print(\"Orders by Age Group:\")\n",
    "print(age_group_analysis)"
   ]
  },
  {
   "cell_type": "markdown",
   "id": "6d808a80-e1b8-4965-92eb-df53026292f2",
   "metadata": {},
   "source": [
    "Orders by Location"
   ]
  },
  {
   "cell_type": "code",
   "execution_count": 188,
   "id": "e9f2a31d-06e4-4927-8dee-fa7982b6fe04",
   "metadata": {},
   "outputs": [
    {
     "name": "stdout",
     "output_type": "stream",
     "text": [
      "\n",
      "Orders by Location:\n",
      "location\n",
      "Austin           1\n",
      "Boston           1\n",
      "Chicago          1\n",
      "Los Angeles      3\n",
      "Miami            1\n",
      "New York         3\n",
      "San Francisco    2\n",
      "Seattle          2\n",
      "Name: order_id, dtype: int64\n"
     ]
    }
   ],
   "source": [
    "# Analyze orders by location\n",
    "location_analysis = merged_data.groupby('location')['order_id'].count()\n",
    "\n",
    "print(\"\\nOrders by Location:\")\n",
    "print(location_analysis)"
   ]
  },
  {
   "cell_type": "markdown",
   "id": "9fdf82be-c32e-482f-bfa7-8b0897bc04ba",
   "metadata": {},
   "source": [
    "Orders by Favorite Meal"
   ]
  },
  {
   "cell_type": "code",
   "execution_count": 191,
   "id": "5eb76200-a7b4-407c-8f6f-585fad4a9f62",
   "metadata": {},
   "outputs": [
    {
     "name": "stdout",
     "output_type": "stream",
     "text": [
      "\n",
      "Orders by Favorite Meal:\n",
      "favorite_meal\n",
      "Breakfast    2\n",
      "Dinner       7\n",
      "Lunch        5\n",
      "Name: order_id, dtype: int64\n"
     ]
    }
   ],
   "source": [
    "# Analyze orders by favorite meal\n",
    "favorite_meal_analysis = merged_data.groupby('favorite_meal')['order_id'].count()\n",
    "\n",
    "print(\"\\nOrders by Favorite Meal:\")\n",
    "print(favorite_meal_analysis)"
   ]
  },
  {
   "cell_type": "markdown",
   "id": "7c861949-9af9-4fcd-b37b-932a3d598bc7",
   "metadata": {},
   "source": [
    "Step 9: Create Visualizations"
   ]
  },
  {
   "cell_type": "code",
   "execution_count": 194,
   "id": "0ab3bd21-63ba-4863-8f83-6f490834806b",
   "metadata": {},
   "outputs": [
    {
     "data": {
      "image/png": "[encoded data removed]",
      "text/plain": [
       "<Figure size 1000x600 with 1 Axes>"
      ]
     },
     "metadata": {},
     "output_type": "display_data"
    }
   ],
   "source": [
    "import matplotlib.pyplot as plt\n",
    "import seaborn as sns\n",
    "\n",
    "# Popular dishes visualization\n",
    "plt.figure(figsize=(10, 6))\n",
    "sns.barplot(x=popular_dishes.values, y=popular_dishes.index)\n",
    "plt.title('Top 10 Popular Dishes')\n",
    "plt.xlabel('Order Frequency')\n",
    "plt.ylabel('Dish Name')\n",
    "plt.show()"
   ]
  },
  {
   "cell_type": "code",
   "execution_count": 196,
   "id": "9ec47e4a-1235-40b5-9118-6ad619b4db1f",
   "metadata": {},
   "outputs": [
    {
     "data": {
      "image/png": "[encoded data removed]",
      "text/plain": [
       "<Figure size 800x600 with 2 Axes>"
      ]
     },
     "metadata": {},
     "output_type": "display_data"
    }
   ],
   "source": [
    "# Correlation heatmap\n",
    "plt.figure(figsize=(8, 6))\n",
    "sns.heatmap(sessions_orders_relation.corr(), annot=True, cmap='coolwarm')\n",
    "plt.title('Correlation Between Sessions and Orders')\n",
    "plt.show()"
   ]
  },
  {
   "cell_type": "code",
   "execution_count": null,
   "id": "a2bd805d-4e47-4168-8d90-d63d58039890",
   "metadata": {},
   "outputs": [],
   "source": []
  }
 ],
 "metadata": {
  "kernelspec": {
   "display_name": "Python 3 (ipykernel)",
   "language": "python",
   "name": "python3"
  },
  "language_info": {
   "codemirror_mode": {
    "name": "ipython",
    "version": 3
   },
   "file_extension": ".py",
   "mimetype": "text/x-python",
   "name": "python",
   "nbconvert_exporter": "python",
   "pygments_lexer": "ipython3",
   "version": "3.12.4"
  }
 },
 "nbformat": 4,
 "nbformat_minor": 5
}
